{
 "cells": [
  {
   "cell_type": "code",
   "execution_count": 45,
   "id": "f7d8ff96",
   "metadata": {},
   "outputs": [],
   "source": [
    "import numpy as np"
   ]
  },
  {
   "cell_type": "code",
   "execution_count": 54,
   "id": "5659ceba",
   "metadata": {},
   "outputs": [],
   "source": [
    "myar=np.array([1,2,3,4,5,6,7,8,9,10])"
   ]
  },
  {
   "cell_type": "code",
   "execution_count": 56,
   "id": "34728a62",
   "metadata": {},
   "outputs": [
    {
     "name": "stdout",
     "output_type": "stream",
     "text": [
      "1\n"
     ]
    }
   ],
   "source": [
    "print(myar[0])"
   ]
  },
  {
   "cell_type": "code",
   "execution_count": 131,
   "id": "8354d938",
   "metadata": {},
   "outputs": [
    {
     "name": "stdout",
     "output_type": "stream",
     "text": [
      "[ 1  2  3  4  9  8  7  6  5 10 11 12] \n",
      "\n",
      "[[ 1  2  3  4]\n",
      " [ 9  8  7  6]\n",
      " [ 5 10 11 12]] \n",
      "\n",
      "Value at [1][3] 6\n"
     ]
    }
   ],
   "source": [
    "two_di=np.array([[1,2,3,4],[9,8,7,6],[5,10,11,12]])\n",
    "two_di=np.reshape(two_di,12)\n",
    "print(two_di,\"\\n\")\n",
    "two_di=np.reshape(two_di,(3,4))\n",
    "print(two_di,\"\\n\")\n",
    "print(\"Value at two_di[1][3]\",two_di[1][3])\n"
   ]
  },
  {
   "cell_type": "code",
   "execution_count": 137,
   "id": "b0059aa2",
   "metadata": {},
   "outputs": [
    {
     "name": "stdout",
     "output_type": "stream",
     "text": [
      "[[[ 1  2  3  4]\n",
      "  [ 5  6  7  8]\n",
      "  [ 9 10 11 12]]\n",
      "\n",
      " [[13 14 15 16]\n",
      "  [17 18 19 20]\n",
      "  [21 22 23 24]]]\n",
      "\n",
      "Value at three_di[1][3][3] 24\n"
     ]
    }
   ],
   "source": [
    "three_di=np.array([[[1, 2, 3, 4], [5, 6, 7, 8], [9, 10, 11, 12]],\n",
    "               [[13, 14, 15, 16], [17, 18, 19, 20], [21, 22, 23, 24]]])\n",
    "print(three_di)\n",
    "print(\"\\nValue at three_di[1][3][3]\",three_di[1][2][3])"
   ]
  },
  {
   "cell_type": "code",
   "execution_count": null,
   "id": "9c0968e9",
   "metadata": {},
   "outputs": [],
   "source": []
  }
 ],
 "metadata": {
  "kernelspec": {
   "display_name": "Python 3 (ipykernel)",
   "language": "python",
   "name": "python3"
  },
  "language_info": {
   "codemirror_mode": {
    "name": "ipython",
    "version": 3
   },
   "file_extension": ".py",
   "mimetype": "text/x-python",
   "name": "python",
   "nbconvert_exporter": "python",
   "pygments_lexer": "ipython3",
   "version": "3.11.4"
  }
 },
 "nbformat": 4,
 "nbformat_minor": 5
}
